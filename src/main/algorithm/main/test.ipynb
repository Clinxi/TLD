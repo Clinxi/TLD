{
 "cells": [
  {
   "cell_type": "code",
   "execution_count": 2,
   "metadata": {},
   "outputs": [
    {
     "name": "stdout",
     "output_type": "stream",
     "text": [
      "Relative path from file2 to file1: ../../../algorithm/main/main.py\n"
     ]
    }
   ],
   "source": [
    "import os\n",
    "\n",
    "# 假设有两个文件路径\n",
    "file1_path = '/home/disk3/jsa/projects/TLD_backend/src/main/algorithm/main/main.py'\n",
    "file2_path = '/home/disk3/jsa/projects/TLD_backend/src/main/java/org/zjuvipa/util/PythonCallerUtil.java'\n",
    "file3_path = '/home/disk3/jsa/projects/TLD_backend/src/main/java/org/zjuvipa/DemoApplication.java'\n",
    "# 计算相对路径\n",
    "relative_path = os.path.relpath(file1_path, os.path.dirname(file3_path))\n",
    "\n",
    "print(\"Relative path from file2 to file1:\", relative_path)"
   ]
  },
  {
   "cell_type": "code",
   "execution_count": 4,
   "metadata": {
    "ExecuteTime": {
     "end_time": "2024-08-14T05:08:19.339864Z",
     "start_time": "2024-08-14T05:08:19.280595Z"
    }
   },
   "outputs": [
    {
     "name": "stdout",
     "output_type": "stream",
     "text": [
      "分界线位置：43, 像素均值：2.0\n",
      "\n",
      "44\n"
     ]
    }
   ],
   "source": [
    "%matplotlib inline\n",
    "import cv2\n",
    "import img_processing as ip\n",
    "import matplotlib.pyplot as plt\n",
    "image_path=r\"D:\\PycharmProjects\\TLD\\src\\main\\algorithm\\test\\case1\\3-DK324+390-535GD P_1.JPG\"\n",
    "image=cv2.imread(image_path)\n",
    "original_line = ip.horizon_line(image[:, 63:64])\n",
    "if original_line:\n",
    "    original_line = original_line.pop() + 1\n",
    "else:\n",
    "    raise ValueError(\"No horizontal line found in the specified range.\")\n",
    "print(original_line)\n",
    "vertical_position = image[original_line:, 48:54]\n",
    "# plt.figure(figsize=(10, 10))\n",
    "# plt.imshow(image[20:30,20:30],cmap='gray')\n",
    "# plt.show()"
   ]
  },
  {
   "metadata": {},
   "cell_type": "code",
   "outputs": [],
   "execution_count": null,
   "source": [
    "for i in range(2,10):\n",
    "    print(i)"
   ]
  },
  {
   "metadata": {},
   "cell_type": "code",
   "outputs": [],
   "execution_count": null,
   "source": ""
  },
  {
   "metadata": {},
   "cell_type": "code",
   "outputs": [],
   "execution_count": null,
   "source": "a=\"255.255.11.135\"\n"
  }
 ],
 "metadata": {
  "kernelspec": {
   "display_name": "defect_detect",
   "language": "python",
   "name": "python3"
  },
  "language_info": {
   "codemirror_mode": {
    "name": "ipython",
    "version": 3
   },
   "file_extension": ".py",
   "mimetype": "text/x-python",
   "name": "python",
   "nbconvert_exporter": "python",
   "pygments_lexer": "ipython3",
   "version": "3.8.18"
  }
 },
 "nbformat": 4,
 "nbformat_minor": 2
}
