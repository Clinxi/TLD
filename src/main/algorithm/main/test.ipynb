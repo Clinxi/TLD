{
 "cells": [
  {
   "cell_type": "code",
   "execution_count": 2,
   "metadata": {},
   "outputs": [
    {
     "name": "stdout",
     "output_type": "stream",
     "text": [
      "Relative path from file2 to file1: ../../../algorithm/main/main.py\n"
     ]
    }
   ],
   "source": [
    "import os\n",
    "\n",
    "from thop.vision.basic_hooks import count_adap_avgpool\n",
    "\n",
    "# 假设有两个文件路径\n",
    "file1_path = '/home/disk3/jsa/projects/TLD_backend/src/main/algorithm/main/main.py'\n",
    "file2_path = '/home/disk3/jsa/projects/TLD_backend/src/main/java/org/zjuvipa/util/PythonCallerUtil.java'\n",
    "file3_path = '/home/disk3/jsa/projects/TLD_backend/src/main/java/org/zjuvipa/DemoApplication.java'\n",
    "# 计算相对路径\n",
    "relative_path = os.path.relpath(file1_path, os.path.dirname(file3_path))\n",
    "\n",
    "print(\"Relative path from file2 to file1:\", relative_path)"
   ]
  },
  {
   "metadata": {},
   "cell_type": "markdown",
   "source": ""
  },
  {
   "cell_type": "code",
   "metadata": {
    "ExecuteTime": {
     "end_time": "2024-09-23T01:31:09.452385Z",
     "start_time": "2024-09-23T01:31:09.369383Z"
    }
   },
   "source": [
    "%matplotlib inline\n",
    "import cv2\n",
    "import img_processing as ip\n",
    "import matplotlib.pyplot as plt\n",
    "image_path=r\"D:\\PycharmProjects\\TLD\\src\\main\\algorithm\\test\\case1\\3-DK324+390-535GD P_1.JPG\"\n",
    "image=cv2.imread(image_path)\n",
    "original_line = ip.horizon_line(image[:, 63:64])\n",
    "if original_line:\n",
    "    original_line = original_line.pop() + 1\n",
    "else:\n",
    "    raise ValueError(\"No horizontal line found in the specified range.\")\n",
    "print(original_line)\n",
    "vertical_position = image[original_line:, 48:54]\n",
    "# plt.figure(figsize=(10, 10))\n",
    "# plt.imshow(image[20:30,20:30],cmap='gray')\n",
    "# plt.show()"
   ],
   "outputs": [
    {
     "ename": "TypeError",
     "evalue": "'NoneType' object is not subscriptable",
     "output_type": "error",
     "traceback": [
      "\u001B[1;31m---------------------------------------------------------------------------\u001B[0m",
      "\u001B[1;31mTypeError\u001B[0m                                 Traceback (most recent call last)",
      "\u001B[1;32m~\\AppData\\Local\\Temp\\ipykernel_4708\\1708646761.py\u001B[0m in \u001B[0;36m<module>\u001B[1;34m\u001B[0m\n\u001B[0;32m      5\u001B[0m \u001B[0mimage_path\u001B[0m\u001B[1;33m=\u001B[0m\u001B[1;34mr\"D:\\PycharmProjects\\TLD\\src\\main\\algorithm\\test\\case1\\3-DK324+390-535GD P_1.JPG\"\u001B[0m\u001B[1;33m\u001B[0m\u001B[1;33m\u001B[0m\u001B[0m\n\u001B[0;32m      6\u001B[0m \u001B[0mimage\u001B[0m\u001B[1;33m=\u001B[0m\u001B[0mcv2\u001B[0m\u001B[1;33m.\u001B[0m\u001B[0mimread\u001B[0m\u001B[1;33m(\u001B[0m\u001B[0mimage_path\u001B[0m\u001B[1;33m)\u001B[0m\u001B[1;33m\u001B[0m\u001B[1;33m\u001B[0m\u001B[0m\n\u001B[1;32m----> 7\u001B[1;33m \u001B[0moriginal_line\u001B[0m \u001B[1;33m=\u001B[0m \u001B[0mip\u001B[0m\u001B[1;33m.\u001B[0m\u001B[0mhorizon_line\u001B[0m\u001B[1;33m(\u001B[0m\u001B[0mimage\u001B[0m\u001B[1;33m[\u001B[0m\u001B[1;33m:\u001B[0m\u001B[1;33m,\u001B[0m \u001B[1;36m63\u001B[0m\u001B[1;33m:\u001B[0m\u001B[1;36m64\u001B[0m\u001B[1;33m]\u001B[0m\u001B[1;33m)\u001B[0m\u001B[1;33m\u001B[0m\u001B[1;33m\u001B[0m\u001B[0m\n\u001B[0m\u001B[0;32m      8\u001B[0m \u001B[1;32mif\u001B[0m \u001B[0moriginal_line\u001B[0m\u001B[1;33m:\u001B[0m\u001B[1;33m\u001B[0m\u001B[1;33m\u001B[0m\u001B[0m\n\u001B[0;32m      9\u001B[0m     \u001B[0moriginal_line\u001B[0m \u001B[1;33m=\u001B[0m \u001B[0moriginal_line\u001B[0m\u001B[1;33m.\u001B[0m\u001B[0mpop\u001B[0m\u001B[1;33m(\u001B[0m\u001B[1;33m)\u001B[0m \u001B[1;33m+\u001B[0m \u001B[1;36m1\u001B[0m\u001B[1;33m\u001B[0m\u001B[1;33m\u001B[0m\u001B[0m\n",
      "\u001B[1;31mTypeError\u001B[0m: 'NoneType' object is not subscriptable"
     ]
    }
   ],
   "execution_count": 5
  },
  {
   "metadata": {},
   "cell_type": "markdown",
   "source": "# 解决读取图片首数值和尾数值的问题"
  },
  {
   "metadata": {},
   "cell_type": "code",
   "outputs": [],
   "execution_count": null,
   "source": [
    "import matplotlib.pyplot as plt\n",
    "import cv2 as cv\n",
    "import img_processing as ip\n",
    "\n",
    "img_path = r\"D:\\PycharmProjects\\TLD\\src\\main\\algorithm\\test\\problem1\\6-DK627+515-647YY P_1.jpg\"\n",
    "# img_path = r\"C:\\Users\\DELL\\Desktop\\TEST\\example4\\1-D2K999+150-D2K999+350-ZQ-12 P_1.JPG\"\n",
    "# img_path =r\"C:\\Users\\DELL\\Desktop\\tunnel_data\\731\\1-D1K67+275-505GD\\8-D1K67+275-505GD P_1.JPG\"\n",
    "image = cv.imread(img_path, cv.IMREAD_COLOR)  # 读取图像 三通道彩色图\n",
    "#更改 image的显示范围 调节List，将得到的List添加到下方的regions中\n",
    "plt.imshow(image[16:30, 130:196])\n",
    "plt.axis('off')\n",
    "plt.show()\n",
    "regions = [\n",
    "    (8, 20, 62, 112),\n",
    "    (8, 20, 121, 176),\n",
    "    (10, 26, 130, 196),\n",
    "    (14, 29, 62, 117),\n",
    "    (16, 30, 130, 196)\n",
    "]\n",
    "rheadnum = None\n",
    "for (y1, y2, x1, x2) in regions:\n",
    "    try:\n",
    "        head_number = image[y1:y2, x1:x2]\n",
    "        rheadnum = ip.split_num(head_number)\n",
    "        if (x1, x2) in [(121, 176), (130, 196)]:\n",
    "            rheadnum -= 1\n",
    "        break\n",
    "    except ValueError:\n",
    "        continue\n",
    "\n",
    "if rheadnum is None:\n",
    "    raise ValueError(\"No valid head number found.\")\n",
    "\n",
    "print(rheadnum)"
   ]
  },
  {
   "metadata": {},
   "cell_type": "markdown",
   "source": ""
  },
  {
   "metadata": {
    "ExecuteTime": {
     "end_time": "2024-09-24T03:25:49.616234Z",
     "start_time": "2024-09-24T03:25:49.602928Z"
    }
   },
   "cell_type": "code",
   "source": [
    "import pandas as pd\n",
    "# import numpy as np\n",
    "# import openpyxl\n",
    "\n",
    "\n",
    "s1 = pd.Series(['Alice', 'Bob', 'Charlie'])\n",
    "s2 = pd.Series([25, 30, 35])\n",
    "s3 = pd.Series(['New York', 'Los Angeles', 'Chicago'])\n",
    "s4 = [\"1\",\"2\" , \"3\"]  # 整数索引\n",
    "df1 = pd.DataFrame(data={'Name': s1, 'Age': s2, 'City': s3},index=['00','01','02'])\n",
    "df2 = pd.DataFrame(data={'Name': s1, 'Age': s2, 'City': s3}, index=[\"1\",\"2\" , \"3\"])\n",
    "print(df1)\n",
    "print(df2)\n"
   ],
   "outputs": [
    {
     "name": "stdout",
     "output_type": "stream",
     "text": [
      "   Name  Age City\n",
      "00  NaN  NaN  NaN\n",
      "01  NaN  NaN  NaN\n",
      "02  NaN  NaN  NaN\n",
      "  Name  Age City\n",
      "1  NaN  NaN  NaN\n",
      "2  NaN  NaN  NaN\n",
      "3  NaN  NaN  NaN\n"
     ]
    }
   ],
   "execution_count": 13
  },
  {
   "metadata": {
    "ExecuteTime": {
     "end_time": "2024-09-24T03:21:13.979142Z",
     "start_time": "2024-09-24T03:21:13.961418Z"
    }
   },
   "cell_type": "code",
   "source": [
    "import pandas as pd\n",
    "# import numpy as np\n",
    "# import openpyxl\n",
    "\n",
    "\n",
    "s1 = pd.Series(['Alice', 'Bob', 'Charlie'])\n",
    "s2 = pd.Series([25, 30, 35])\n",
    "s3 = pd.Series(['New York', 'Los Angeles', 'Chicago'])\n",
    "s4 = pd.Series(['1', '2', '3'])  # 字符串索引\n",
    "df = pd.DataFrame(data={'Name': s1, 'Age': s2, 'City': s3})\n",
    "df.index = s4  # 手动设置索引\n",
    "\n",
    "print(df)"
   ],
   "outputs": [
    {
     "name": "stdout",
     "output_type": "stream",
     "text": [
      "      Name  Age         City\n",
      "1    Alice   25     New York\n",
      "2      Bob   30  Los Angeles\n",
      "3  Charlie   35      Chicago\n"
     ]
    }
   ],
   "execution_count": 7
  },
  {
   "metadata": {},
   "cell_type": "markdown",
   "source": "# 图片尾数值的读取"
  },
  {
   "metadata": {},
   "cell_type": "code",
   "outputs": [],
   "execution_count": null,
   "source": [
    "import matplotlib.pyplot as plt\n",
    "import cv2 as cv\n",
    "import img_processing as ip\n",
    "\n",
    "# img_path = r\"D:\\PycharmProjects\\TLD\\src\\main\\algorithm\\test\\problem1\\3-DK623+440-360 GD P_1.jpg\"\n",
    "img_path = r\"D:\\PycharmProjects\\TLD\\src\\main\\algorithm\\test\\problem1\\6-DK627+515-647YY P_1.jpg\"\n",
    "# img_path = r\"C:\\Users\\DELL\\Desktop\\TEST\\example4\\1-D2K999+150-D2K999+350-ZQ-12 P_1.JPG\"\n",
    "# img_path =r\"C:\\Users\\DELL\\Desktop\\tunnel_data\\731\\1-D1K67+275-505GD\\8-D1K67+275-505GD P_1.JPG\"\n",
    "image = cv.imread(img_path, cv.IMREAD_COLOR)  # 读取图像 三通道彩色图\n",
    "plt.imshow(image[14:29, -145:-70])\n",
    "plt.axis('off')\n",
    "plt.show()\n",
    "regions = [\n",
    "    (8, 20, -191, -92),\n",
    "    (8, 20, -140, -92),\n",
    "    (10, 25, -132, -85),\n",
    "    (14, 29, -145, -70)\n",
    "]\n",
    "rtailnum = None\n",
    "for (y1, y2, x1, x2) in regions:\n",
    "    try:\n",
    "        tail_number = image[y1:y2, x1:x2]\n",
    "        rtailnum = ip.split_num(tail_number)\n",
    "        rtailnum = ip.tailnum_revise(rtailnum)\n",
    "        break\n",
    "    except ValueError:\n",
    "        continue\n",
    "\n",
    "if rtailnum is None:\n",
    "    raise ValueError(\"No valid tail number found.\")\n",
    "\n",
    "print(rtailnum)"
   ]
  },
  {
   "metadata": {},
   "cell_type": "markdown",
   "source": "# 检查 Get wrong Vertical Resolution.问题"
  },
  {
   "metadata": {
    "ExecuteTime": {
     "end_time": "2024-09-23T05:07:47.475203Z",
     "start_time": "2024-09-23T05:07:47.461691Z"
    }
   },
   "cell_type": "code",
   "source": [
    "import number_processing\n",
    "def get_tailnum(img):\n",
    "    \"\"\"\n",
    "    定义split_num函数，用于分割数字并保存\n",
    "    返回数字\n",
    "    \"\"\"\n",
    "    # 将彩色图像转化为灰度图像\n",
    "    img_gray = cv.cvtColor(img, cv.COLOR_BGR2GRAY)\n",
    "    # 二值化处理，你可以根据需要调整阈值\n",
    "    _, thresh = cv.threshold(img_gray, 128, 255, cv.THRESH_BINARY_INV)\n",
    "    # 查找轮廓\n",
    "    contours, _ = cv.findContours(thresh, cv.RETR_EXTERNAL, cv.CHAIN_APPROX_SIMPLE)\n",
    "    print(contours)\n",
    "    print(len(contours))\n",
    "    # 对轮廓进行排序，以便从左到右处理数字（可选）\n",
    "    contours = sorted(contours, key=lambda x: cv.boundingRect(x)[0])\n",
    "    contours = sorted(contours, key=lambda x: cv.boundingRect(x)[1])\n",
    "\n",
    "    # 用于存储识别出的数字字符串\n",
    "    recognized_digits = []\n",
    "\n",
    "    # 遍历每个轮廓，并保存每个数字的图片\n",
    "    for i, contour in enumerate(contours):\n",
    "        x, y, w, h = cv.boundingRect(contour)\n",
    "        digit = thresh[y:y + h, x:x + w]\n",
    "        # print(f\"第{i+1}个数字的尺寸：{digit.shape[0]}\")\n",
    "        if digit.shape[0] < 5:  # 小数点的轮廓太小，跳过\n",
    "            continue\n",
    "        num_index = number_processing.num_list.index(digit.tolist())\n",
    "        if num_index // 10 == 1:\n",
    "            num_index = num_index % 10\n",
    "        recognized_digits.append(str(num_index))\n",
    "    length = len(recognized_digits)\n",
    "    print(\"length\",length)\n",
    "    print(\"recognized_digits:\", recognized_digits)\n",
    "    # tail_num_list = recognized_digits[::(length // 3)]\n",
    "    # tail_num_list=recognized_digits[(length // 3)-1:(length // 3)+1]+[recognized_digits[-1]]\n",
    "    tail_num_list=recognized_digits[-3:]\n",
    "    print(\"tail_num_list\",tail_num_list)\n",
    "    tail_num = int(\"\".join(tail_num_list))\n",
    "    tail_num = tail_num / 100\n",
    "    return tail_num\n"
   ],
   "outputs": [],
   "execution_count": 43
  },
  {
   "metadata": {},
   "cell_type": "code",
   "source": [
    "import matplotlib.pyplot as plt\n",
    "import cv2 as cv\n",
    "import img_processing as ip\n",
    "\n",
    "img_path = r\"D:\\PycharmProjects\\paper_accomplish\\TLD\\src\\main\\algorithm\\test\\add_test\\8-DK326+135-237 YY P_12.JPG\"\n",
    "# img_path = r\"D:\\PycharmProjects\\paper_accomplish\\TLD\\src\\main\\algorithm\\test\\case1\\3-DK324+390-535GD P_1.JPG\"\n",
    "# img_path =r\"C:\\Users\\DELL\\Desktop\\tunnel_data\\731\\1-D1K67+275-505GD\\8-D1K67+275-505GD P_1.JPG\"\n",
    "image = cv.imread(img_path, cv.IMREAD_COLOR)  # 读取图像 三通道彩色图\n",
    "num_position = image[66:, 13:48]\n",
    "original_line = ip.horizon_line(image[:, 63:64])\n",
    "if original_line:\n",
    "    original_line = original_line.pop() + 1\n",
    "else:\n",
    "    raise ValueError(\"No horizontal line found in the specified range.\")\n",
    "print(\"original_line\",original_line)\n",
    "depth = get_tailnum(num_position)\n",
    "plt.imshow(num_position)\n",
    "plt.axis('off')\n",
    "plt.show()\n",
    "print(depth)"
   ],
   "outputs": [],
   "execution_count": null
  },
  {
   "metadata": {},
   "cell_type": "code",
   "outputs": [],
   "execution_count": null,
   "source": [
    "import matplotlib.pyplot as plt\n",
    "import cv2 as cv\n",
    "import img_processing as ip\n",
    "vertical_position = image[original_line:, 48:54]  # (水平，垂直)\n",
    "black_lines = ip.find_black_horizontal_lines(vertical_position)\n",
    "vertical_resolution = ip.compute_vertical_resolution(depth, black_lines)\n",
    "if vertical_resolution==0:\n",
    "    raise ValueError(\"Get wrong Vertical Resolution.\")\n",
    "vertical_resolution = vertical_resolution"
   ]
  },
  {
   "metadata": {
    "ExecuteTime": {
     "end_time": "2024-09-23T14:16:26.445113Z",
     "start_time": "2024-09-23T14:16:26.380113Z"
    }
   },
   "cell_type": "code",
   "source": [
    "import cv2 as cv\n",
    "import img_processing as ip\n",
    "import matplotlib.pyplot as plt\n",
    "img_path = r\"D:\\PycharmProjects\\paper_accomplish\\TLD\\src\\main\\algorithm\\test\\lacksteel\\7-D1K664+420-520 GD P_1.JPG\"\n",
    "image = cv.imread(img_path, cv.IMREAD_COLOR)  # 读取图像 三通道彩色图\n",
    "original_line = ip.horizon_line(image[:, 63:64])\n",
    "# vertical_position = image[original_line:, 48:54]  # (水平，垂直)\n",
    "# black_lines = ip.find_black_horizontal_lines(vertical_position)\n",
    "\n",
    "num_position = image[66:, 13:48]\n",
    "# original_line = ip.horizon_line(image[:, 63:64])\n",
    "data = image[original_line:, 65:-2]\n",
    "plt.imshow(data)\n",
    "plt.axis('off')\n",
    "plt.show()\n",
    "# split_start = int(abs(originalMileage - standard.startingMileage) / self.horizontal_resolution)\n",
    "# split_end = int(abs(self.originalMileage - standard.endingMileage) / self.horizontal_resolution)\n",
    "# # print(split_start, split_end)\n",
    "# splitpict = data[:, split_start:split_end]  # 选取所有行，截取列\n",
    "# self.image = splitpict"
   ],
   "outputs": [
    {
     "ename": "TypeError",
     "evalue": "slice indices must be integers or None or have an __index__ method",
     "output_type": "error",
     "traceback": [
      "\u001B[1;31m---------------------------------------------------------------------------\u001B[0m",
      "\u001B[1;31mTypeError\u001B[0m                                 Traceback (most recent call last)",
      "Cell \u001B[1;32mIn[5], line 12\u001B[0m\n\u001B[0;32m     10\u001B[0m num_position \u001B[38;5;241m=\u001B[39m image[\u001B[38;5;241m66\u001B[39m:, \u001B[38;5;241m13\u001B[39m:\u001B[38;5;241m48\u001B[39m]\n\u001B[0;32m     11\u001B[0m \u001B[38;5;66;03m# original_line = ip.horizon_line(image[:, 63:64])\u001B[39;00m\n\u001B[1;32m---> 12\u001B[0m data \u001B[38;5;241m=\u001B[39m \u001B[43mimage\u001B[49m\u001B[43m[\u001B[49m\u001B[43moriginal_line\u001B[49m\u001B[43m:\u001B[49m\u001B[43m,\u001B[49m\u001B[43m \u001B[49m\u001B[38;5;241;43m65\u001B[39;49m\u001B[43m:\u001B[49m\u001B[38;5;241;43m-\u001B[39;49m\u001B[38;5;241;43m2\u001B[39;49m\u001B[43m]\u001B[49m\n\u001B[0;32m     13\u001B[0m plt\u001B[38;5;241m.\u001B[39mimshow(data)\n\u001B[0;32m     14\u001B[0m plt\u001B[38;5;241m.\u001B[39maxis(\u001B[38;5;124m'\u001B[39m\u001B[38;5;124moff\u001B[39m\u001B[38;5;124m'\u001B[39m)\n",
      "\u001B[1;31mTypeError\u001B[0m: slice indices must be integers or None or have an __index__ method"
     ]
    }
   ],
   "execution_count": 5
  },
  {
   "metadata": {
    "ExecuteTime": {
     "end_time": "2024-09-25T02:50:40.056843Z",
     "start_time": "2024-09-25T02:50:40.048845Z"
    }
   },
   "cell_type": "code",
   "source": [
    "result=0\n",
    "temp=[]\n",
    "nums=[-2,1,-3,4,-1,2,1,-5,4]\n",
    "if len(nums)<=1:\n",
    "    print(sum(nums))\n",
    "for i in range(0,len(nums)-1):\n",
    "    print(\"i ,nums[i]\",i, nums[i])\n",
    "    if nums[i]+nums[i+1]>0:\n",
    "        temp.append(nums[i])\n",
    "        print(temp)\n",
    "    # if i==len(nums)-3 and nums[i]:\n",
    "if temp[0]<0:\n",
    "    temp[:]=temp[1:]\n",
    "print(sum(temp))"
   ],
   "outputs": [
    {
     "name": "stdout",
     "output_type": "stream",
     "text": [
      "i ,nums[i] 0 -2\n",
      "i ,nums[i] 1 1\n",
      "i ,nums[i] 2 -3\n",
      "[-3]\n",
      "i ,nums[i] 3 4\n",
      "[-3, 4]\n",
      "i ,nums[i] 4 -1\n",
      "[-3, 4, -1]\n",
      "i ,nums[i] 5 2\n",
      "[-3, 4, -1, 2]\n",
      "i ,nums[i] 6 1\n",
      "i ,nums[i] 7 -5\n",
      "5\n"
     ]
    }
   ],
   "execution_count": 7
  }
 ],
 "metadata": {
  "kernelspec": {
   "display_name": "defect_detect",
   "language": "python",
   "name": "python3"
  },
  "language_info": {
   "codemirror_mode": {
    "name": "ipython",
    "version": 3
   },
   "file_extension": ".py",
   "mimetype": "text/x-python",
   "name": "python",
   "nbconvert_exporter": "python",
   "pygments_lexer": "ipython3",
   "version": "3.8.18"
  }
 },
 "nbformat": 4,
 "nbformat_minor": 2
}
