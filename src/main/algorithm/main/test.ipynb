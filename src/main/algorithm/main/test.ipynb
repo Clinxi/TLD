{
 "cells": [
  {
   "cell_type": "code",
   "execution_count": 2,
   "metadata": {},
   "outputs": [
    {
     "name": "stdout",
     "output_type": "stream",
     "text": [
      "Relative path from file2 to file1: ../../../algorithm/main/main.py\n"
     ]
    }
   ],
   "source": [
    "import os\n",
    "\n",
    "# 假设有两个文件路径\n",
    "file1_path = '/home/disk3/jsa/projects/TLD_backend/src/main/algorithm/main/main.py'\n",
    "file2_path = '/home/disk3/jsa/projects/TLD_backend/src/main/java/org/zjuvipa/util/PythonCallerUtil.java'\n",
    "file3_path = '/home/disk3/jsa/projects/TLD_backend/src/main/java/org/zjuvipa/DemoApplication.java'\n",
    "# 计算相对路径\n",
    "relative_path = os.path.relpath(file1_path, os.path.dirname(file3_path))\n",
    "\n",
    "print(\"Relative path from file2 to file1:\", relative_path)"
   ]
  },
  {
   "metadata": {},
   "cell_type": "markdown",
   "source": ""
  },
  {
   "cell_type": "code",
   "metadata": {
    "ExecuteTime": {
     "end_time": "2024-09-23T01:31:09.452385Z",
     "start_time": "2024-09-23T01:31:09.369383Z"
    }
   },
   "source": [
    "%matplotlib inline\n",
    "import cv2\n",
    "import img_processing as ip\n",
    "import matplotlib.pyplot as plt\n",
    "image_path=r\"D:\\PycharmProjects\\TLD\\src\\main\\algorithm\\test\\case1\\3-DK324+390-535GD P_1.JPG\"\n",
    "image=cv2.imread(image_path)\n",
    "original_line = ip.horizon_line(image[:, 63:64])\n",
    "if original_line:\n",
    "    original_line = original_line.pop() + 1\n",
    "else:\n",
    "    raise ValueError(\"No horizontal line found in the specified range.\")\n",
    "print(original_line)\n",
    "vertical_position = image[original_line:, 48:54]\n",
    "# plt.figure(figsize=(10, 10))\n",
    "# plt.imshow(image[20:30,20:30],cmap='gray')\n",
    "# plt.show()"
   ],
   "outputs": [
    {
     "ename": "TypeError",
     "evalue": "'NoneType' object is not subscriptable",
     "output_type": "error",
     "traceback": [
      "\u001B[1;31m---------------------------------------------------------------------------\u001B[0m",
      "\u001B[1;31mTypeError\u001B[0m                                 Traceback (most recent call last)",
      "\u001B[1;32m~\\AppData\\Local\\Temp\\ipykernel_4708\\1708646761.py\u001B[0m in \u001B[0;36m<module>\u001B[1;34m\u001B[0m\n\u001B[0;32m      5\u001B[0m \u001B[0mimage_path\u001B[0m\u001B[1;33m=\u001B[0m\u001B[1;34mr\"D:\\PycharmProjects\\TLD\\src\\main\\algorithm\\test\\case1\\3-DK324+390-535GD P_1.JPG\"\u001B[0m\u001B[1;33m\u001B[0m\u001B[1;33m\u001B[0m\u001B[0m\n\u001B[0;32m      6\u001B[0m \u001B[0mimage\u001B[0m\u001B[1;33m=\u001B[0m\u001B[0mcv2\u001B[0m\u001B[1;33m.\u001B[0m\u001B[0mimread\u001B[0m\u001B[1;33m(\u001B[0m\u001B[0mimage_path\u001B[0m\u001B[1;33m)\u001B[0m\u001B[1;33m\u001B[0m\u001B[1;33m\u001B[0m\u001B[0m\n\u001B[1;32m----> 7\u001B[1;33m \u001B[0moriginal_line\u001B[0m \u001B[1;33m=\u001B[0m \u001B[0mip\u001B[0m\u001B[1;33m.\u001B[0m\u001B[0mhorizon_line\u001B[0m\u001B[1;33m(\u001B[0m\u001B[0mimage\u001B[0m\u001B[1;33m[\u001B[0m\u001B[1;33m:\u001B[0m\u001B[1;33m,\u001B[0m \u001B[1;36m63\u001B[0m\u001B[1;33m:\u001B[0m\u001B[1;36m64\u001B[0m\u001B[1;33m]\u001B[0m\u001B[1;33m)\u001B[0m\u001B[1;33m\u001B[0m\u001B[1;33m\u001B[0m\u001B[0m\n\u001B[0m\u001B[0;32m      8\u001B[0m \u001B[1;32mif\u001B[0m \u001B[0moriginal_line\u001B[0m\u001B[1;33m:\u001B[0m\u001B[1;33m\u001B[0m\u001B[1;33m\u001B[0m\u001B[0m\n\u001B[0;32m      9\u001B[0m     \u001B[0moriginal_line\u001B[0m \u001B[1;33m=\u001B[0m \u001B[0moriginal_line\u001B[0m\u001B[1;33m.\u001B[0m\u001B[0mpop\u001B[0m\u001B[1;33m(\u001B[0m\u001B[1;33m)\u001B[0m \u001B[1;33m+\u001B[0m \u001B[1;36m1\u001B[0m\u001B[1;33m\u001B[0m\u001B[1;33m\u001B[0m\u001B[0m\n",
      "\u001B[1;31mTypeError\u001B[0m: 'NoneType' object is not subscriptable"
     ]
    }
   ],
   "execution_count": 5
  },
  {
   "metadata": {},
   "cell_type": "markdown",
   "source": "# 解决读取图片首数值和尾数值的问题"
  },
  {
   "metadata": {},
   "cell_type": "code",
   "outputs": [],
   "execution_count": null,
   "source": [
    "import matplotlib.pyplot as plt\n",
    "import cv2 as cv\n",
    "import img_processing as ip\n",
    "\n",
    "img_path = r\"D:\\PycharmProjects\\TLD\\src\\main\\algorithm\\test\\problem1\\6-DK627+515-647YY P_1.jpg\"\n",
    "# img_path = r\"C:\\Users\\DELL\\Desktop\\TEST\\example4\\1-D2K999+150-D2K999+350-ZQ-12 P_1.JPG\"\n",
    "# img_path =r\"C:\\Users\\DELL\\Desktop\\tunnel_data\\731\\1-D1K67+275-505GD\\8-D1K67+275-505GD P_1.JPG\"\n",
    "image = cv.imread(img_path, cv.IMREAD_COLOR)  # 读取图像 三通道彩色图\n",
    "#更改 image的显示范围 调节List，将得到的List添加到下方的regions中\n",
    "plt.imshow(image[16:30, 130:196])\n",
    "plt.axis('off')\n",
    "plt.show()\n",
    "regions = [\n",
    "    (8, 20, 62, 112),\n",
    "    (8, 20, 121, 176),\n",
    "    (10, 26, 130, 196),\n",
    "    (14, 29, 62, 117),\n",
    "    (16, 30, 130, 196)\n",
    "]\n",
    "rheadnum = None\n",
    "for (y1, y2, x1, x2) in regions:\n",
    "    try:\n",
    "        head_number = image[y1:y2, x1:x2]\n",
    "        rheadnum = ip.split_num(head_number)\n",
    "        if (x1, x2) in [(121, 176), (130, 196)]:\n",
    "            rheadnum -= 1\n",
    "        break\n",
    "    except ValueError:\n",
    "        continue\n",
    "\n",
    "if rheadnum is None:\n",
    "    raise ValueError(\"No valid head number found.\")\n",
    "\n",
    "print(rheadnum)"
   ]
  },
  {
   "metadata": {},
   "cell_type": "markdown",
   "source": ""
  },
  {
   "metadata": {},
   "cell_type": "markdown",
   "source": "# 图片尾数值的读取"
  },
  {
   "metadata": {},
   "cell_type": "code",
   "outputs": [],
   "execution_count": null,
   "source": [
    "import matplotlib.pyplot as plt\n",
    "import cv2 as cv\n",
    "import img_processing as ip\n",
    "\n",
    "# img_path = r\"D:\\PycharmProjects\\TLD\\src\\main\\algorithm\\test\\problem1\\3-DK623+440-360 GD P_1.jpg\"\n",
    "img_path = r\"D:\\PycharmProjects\\TLD\\src\\main\\algorithm\\test\\problem1\\6-DK627+515-647YY P_1.jpg\"\n",
    "# img_path = r\"C:\\Users\\DELL\\Desktop\\TEST\\example4\\1-D2K999+150-D2K999+350-ZQ-12 P_1.JPG\"\n",
    "# img_path =r\"C:\\Users\\DELL\\Desktop\\tunnel_data\\731\\1-D1K67+275-505GD\\8-D1K67+275-505GD P_1.JPG\"\n",
    "image = cv.imread(img_path, cv.IMREAD_COLOR)  # 读取图像 三通道彩色图\n",
    "plt.imshow(image[14:29, -145:-70])\n",
    "plt.axis('off')\n",
    "plt.show()\n",
    "regions = [\n",
    "    (8, 20, -191, -92),\n",
    "    (8, 20, -140, -92),\n",
    "    (10, 25, -132, -85),\n",
    "    (14, 29, -145, -70)\n",
    "]\n",
    "rtailnum = None\n",
    "for (y1, y2, x1, x2) in regions:\n",
    "    try:\n",
    "        tail_number = image[y1:y2, x1:x2]\n",
    "        rtailnum = ip.split_num(tail_number)\n",
    "        rtailnum = ip.tailnum_revise(rtailnum)\n",
    "        break\n",
    "    except ValueError:\n",
    "        continue\n",
    "\n",
    "if rtailnum is None:\n",
    "    raise ValueError(\"No valid tail number found.\")\n",
    "\n",
    "print(rtailnum)"
   ]
  }
 ],
 "metadata": {
  "kernelspec": {
   "display_name": "defect_detect",
   "language": "python",
   "name": "python3"
  },
  "language_info": {
   "codemirror_mode": {
    "name": "ipython",
    "version": 3
   },
   "file_extension": ".py",
   "mimetype": "text/x-python",
   "name": "python",
   "nbconvert_exporter": "python",
   "pygments_lexer": "ipython3",
   "version": "3.8.18"
  }
 },
 "nbformat": 4,
 "nbformat_minor": 2
}
