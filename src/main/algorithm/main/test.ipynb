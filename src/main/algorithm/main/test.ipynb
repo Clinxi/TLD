{
 "cells": [
  {
   "cell_type": "code",
   "execution_count": 2,
   "metadata": {},
   "outputs": [
    {
     "name": "stdout",
     "output_type": "stream",
     "text": [
      "Relative path from file2 to file1: ../../../algorithm/main/main.py\n"
     ]
    }
   ],
   "source": [
    "import os\n",
    "\n",
    "# 假设有两个文件路径\n",
    "file1_path = '/home/disk3/jsa/projects/TLD_backend/src/main/algorithm/main/main.py'\n",
    "file2_path = '/home/disk3/jsa/projects/TLD_backend/src/main/java/org/zjuvipa/util/PythonCallerUtil.java'\n",
    "file3_path = '/home/disk3/jsa/projects/TLD_backend/src/main/java/org/zjuvipa/DemoApplication.java'\n",
    "# 计算相对路径\n",
    "relative_path = os.path.relpath(file1_path, os.path.dirname(file3_path))\n",
    "\n",
    "print(\"Relative path from file2 to file1:\", relative_path)"
   ]
  },
  {
   "cell_type": "code",
   "execution_count": null,
   "metadata": {},
   "outputs": [],
   "source": []
  }
 ],
 "metadata": {
  "kernelspec": {
   "display_name": "defect_detect",
   "language": "python",
   "name": "python3"
  },
  "language_info": {
   "codemirror_mode": {
    "name": "ipython",
    "version": 3
   },
   "file_extension": ".py",
   "mimetype": "text/x-python",
   "name": "python",
   "nbconvert_exporter": "python",
   "pygments_lexer": "ipython3",
   "version": "3.8.18"
  }
 },
 "nbformat": 4,
 "nbformat_minor": 2
}
