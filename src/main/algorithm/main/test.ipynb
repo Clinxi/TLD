{
 "cells": [
  {
   "cell_type": "code",
   "execution_count": 2,
   "metadata": {},
   "outputs": [
    {
     "name": "stdout",
     "output_type": "stream",
     "text": [
      "Relative path from file2 to file1: ../../../algorithm/main/main.py\n"
     ]
    }
   ],
   "source": [
    "import os\n",
    "\n",
    "# 假设有两个文件路径\n",
    "file1_path = '/home/disk3/jsa/projects/TLD_backend/src/main/algorithm/main/main.py'\n",
    "file2_path = '/home/disk3/jsa/projects/TLD_backend/src/main/java/org/zjuvipa/util/PythonCallerUtil.java'\n",
    "file3_path = '/home/disk3/jsa/projects/TLD_backend/src/main/java/org/zjuvipa/DemoApplication.java'\n",
    "# 计算相对路径\n",
    "relative_path = os.path.relpath(file1_path, os.path.dirname(file3_path))\n",
    "\n",
    "print(\"Relative path from file2 to file1:\", relative_path)"
   ]
  },
  {
   "cell_type": "code",
   "execution_count": 4,
   "metadata": {
    "ExecuteTime": {
     "end_time": "2024-08-14T05:08:19.339864Z",
     "start_time": "2024-08-14T05:08:19.280595Z"
    }
   },
   "outputs": [
    {
     "name": "stdout",
     "output_type": "stream",
     "text": [
      "分界线位置：43, 像素均值：2.0\n",
      "\n",
      "44\n"
     ]
    }
   ],
   "source": [
    "%matplotlib inline\n",
    "import cv2\n",
    "import img_processing as ip\n",
    "import matplotlib.pyplot as plt\n",
    "image_path=r\"D:\\PycharmProjects\\TLD\\src\\main\\algorithm\\test\\case1\\3-DK324+390-535GD P_1.JPG\"\n",
    "image=cv2.imread(image_path)\n",
    "original_line = ip.horizon_line(image[:, 63:64])\n",
    "if original_line:\n",
    "    original_line = original_line.pop() + 1\n",
    "else:\n",
    "    raise ValueError(\"No horizontal line found in the specified range.\")\n",
    "print(original_line)\n",
    "vertical_position = image[original_line:, 48:54]\n",
    "# plt.figure(figsize=(10, 10))\n",
    "# plt.imshow(image[20:30,20:30],cmap='gray')\n",
    "# plt.show()"
   ]
  },
  {
   "cell_type": "code",
   "execution_count": 6,
   "metadata": {},
   "outputs": [
    {
     "name": "stdout",
     "output_type": "stream",
     "text": [
      "[[], 1, None]\n"
     ]
    }
   ],
   "source": [
    "a = []\n",
    "b = []\n",
    "c = 1\n",
    "d = None\n",
    "a.append(b)\n",
    "a.append(c)\n",
    "a.append(d)\n",
    "print(a)"
   ]
  },
  {
   "cell_type": "code",
   "execution_count": 5,
   "metadata": {
    "ExecuteTime": {
     "end_time": "2024-08-14T05:08:55.988793Z",
     "start_time": "2024-08-14T05:08:55.825271Z"
    }
   },
   "outputs": [
    {
     "data": {
      "image/png": "[encoded data removed]",
      "text/plain": [
       "<Figure size 1000x1000 with 1 Axes>"
      ]
     },
     "metadata": {},
     "output_type": "display_data"
    }
   ],
   "source": [
    "plt.figure(figsize=(10, 10))\n",
    "plt.imshow(vertical_position,cmap='gray')\n",
    "plt.show()"
   ]
  },
  {
   "cell_type": "code",
   "execution_count": 8,
   "metadata": {
    "ExecuteTime": {
     "end_time": "2024-08-14T05:02:11.506645Z",
     "start_time": "2024-08-14T05:02:11.484471Z"
    }
   },
   "outputs": [
    {
     "ename": "ValueError",
     "evalue": "invalid literal for int() with base 10: ''",
     "output_type": "error",
     "traceback": [
      "\u001B[1;31m---------------------------------------------------------------------------\u001B[0m",
      "\u001B[1;31mValueError\u001B[0m                                Traceback (most recent call last)",
      "Cell \u001B[1;32mIn[8], line 2\u001B[0m\n\u001B[0;32m      1\u001B[0m vertical_position \u001B[38;5;241m=\u001B[39m image[original_line:, \u001B[38;5;241m48\u001B[39m:\u001B[38;5;241m54\u001B[39m]  \u001B[38;5;66;03m# (水平，垂直)\u001B[39;00m\n\u001B[1;32m----> 2\u001B[0m black_lines \u001B[38;5;241m=\u001B[39m ip\u001B[38;5;241m.\u001B[39msplit_num(vertical_position)\n\u001B[0;32m      3\u001B[0m \u001B[38;5;28mprint\u001B[39m(black_lines)\n\u001B[0;32m      4\u001B[0m vertical_resolution \u001B[38;5;241m=\u001B[39m ip\u001B[38;5;241m.\u001B[39mcompute_vertical_resolutio(\u001B[38;5;241m1.50\u001B[39m, black_lines)\n",
      "File \u001B[1;32mD:\\PycharmProjects\\TLD\\src\\main\\algorithm\\main\\img_processing.py:107\u001B[0m, in \u001B[0;36msplit_num\u001B[1;34m(img)\u001B[0m\n\u001B[0;32m    104\u001B[0m     \u001B[38;5;66;03m# if num_index//10==0:\u001B[39;00m\n\u001B[0;32m    105\u001B[0m     recognized_digits\u001B[38;5;241m.\u001B[39mappend(\u001B[38;5;28mstr\u001B[39m(num_index))\n\u001B[1;32m--> 107\u001B[0m \u001B[38;5;28;01mreturn\u001B[39;00m \u001B[38;5;28mint\u001B[39m(\u001B[38;5;124m\"\u001B[39m\u001B[38;5;124m\"\u001B[39m\u001B[38;5;241m.\u001B[39mjoin(recognized_digits))\n",
      "\u001B[1;31mValueError\u001B[0m: invalid literal for int() with base 10: ''"
     ]
    }
   ],
   "source": [
    "vertical_position = image[original_line:, 48:54]  # (水平，垂直)\n",
    "black_lines = ip.find_black_horizontal_lines(vertical_position)\n",
    "print(black_lines)\n",
    "vertical_resolution = ip.compute_vertical_resolutio(1.50, black_lines)\n",
    "# vertical_resolution = vertical_resolution\n",
    "print(vertical_resolution)"
   ]
  }
 ],
 "metadata": {
  "kernelspec": {
   "display_name": "defect_detect",
   "language": "python",
   "name": "python3"
  },
  "language_info": {
   "codemirror_mode": {
    "name": "ipython",
    "version": 3
   },
   "file_extension": ".py",
   "mimetype": "text/x-python",
   "name": "python",
   "nbconvert_exporter": "python",
   "pygments_lexer": "ipython3",
   "version": "3.8.18"
  }
 },
 "nbformat": 4,
 "nbformat_minor": 2
}
